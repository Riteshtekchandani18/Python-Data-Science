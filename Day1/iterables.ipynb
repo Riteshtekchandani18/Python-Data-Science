{
 "cells": [
  {
   "cell_type": "markdown",
   "metadata": {},
   "source": [
    "##  iterables\n",
    "list\n",
    "tuple\n",
    "set\n",
    "dict\n",
    "str\n",
    "generator"
   ]
  },
  {
   "cell_type": "code",
   "execution_count": null,
   "metadata": {},
   "outputs": [],
   "source": [
    "word = 'jounery'\n",
    "for ch in word:\n",
    "    print(ch)"
   ]
  },
  {
   "cell_type": "markdown",
   "metadata": {},
   "source": [
    "## range function for the for loop\n",
    "\n",
    "\n",
    "\n",
    "## if we have to print your output in one line then we use end into the loop....with the thing we want between your loop"
   ]
  },
  {
   "cell_type": "code",
   "execution_count": null,
   "metadata": {},
   "outputs": [],
   "source": [
    "for i in range(10):\n",
    "    print(i,end=',')"
   ]
  },
  {
   "cell_type": "code",
   "execution_count": null,
   "metadata": {},
   "outputs": [],
   "source": [
    "for i in range(5, 11):\n",
    "    print (i)"
   ]
  },
  {
   "cell_type": "code",
   "execution_count": null,
   "metadata": {},
   "outputs": [],
   "source": [
    "for i in  range(1,15,2):\n",
    "    print(i)"
   ]
  },
  {
   "cell_type": "code",
   "execution_count": null,
   "metadata": {},
   "outputs": [],
   "source": [
    "for i in range(-5,6):\n",
    "    print(i,end = ' ' )"
   ]
  },
  {
   "cell_type": "markdown",
   "metadata": {},
   "source": [
    "# sum of the number from 1 to 100"
   ]
  },
  {
   "cell_type": "code",
   "execution_count": null,
   "metadata": {},
   "outputs": [],
   "source": [
    "total = 1\n",
    "for i in range(1,101):\n",
    "    total = total+i\n",
    "    print(i)\n",
    "print(total)\n"
   ]
  },
  {
   "cell_type": "markdown",
   "metadata": {},
   "source": [
    "##  find the largest word in the list"
   ]
  },
  {
   "cell_type": "code",
   "execution_count": null,
   "metadata": {},
   "outputs": [],
   "source": [
    "words=['ben','satyam','akshat','bheem','ritesh','zdzghhkjnmns']\n",
    "word=''\n",
    "for i in words:\n",
    "    if len(i)>len(word):\n",
    "        word=i\n",
    "print(word)"
   ]
  },
  {
   "cell_type": "markdown",
   "metadata": {},
   "source": [
    "break and continue"
   ]
  },
  {
   "cell_type": "code",
   "execution_count": null,
   "metadata": {},
   "outputs": [],
   "source": [
    "for i in range(10):\n",
    "    if i==5:\n",
    "        break #ends the program\n",
    "    print(i,end=' ')\n",
    "print(\"the end\")"
   ]
  },
  {
   "cell_type": "code",
   "execution_count": null,
   "metadata": {},
   "outputs": [],
   "source": [
    "data=[1,2,3,4,5,6,0,6,3,6,2,87]\n",
    "for i in data:\n",
    "    if i==5:\n",
    "        print (\"we found the crap\")\n",
    "        continue #skip  to next item\n",
    "    print(i**2,end=' ')\n"
   ]
  },
  {
   "cell_type": "markdown",
   "metadata": {},
   "source": [
    "functions in for loop\n",
    "--------------------1-'enumerator(),'\n",
    "-----2-'zip()'"
   ]
  },
  {
   "cell_type": "code",
   "execution_count": null,
   "metadata": {},
   "outputs": [],
   "source": [
    "# enumerator\n",
    "fruits=['apple','banana','mango','kiwi']\n",
    "for idx,name in enumerate(fruits):\n",
    "    print(idx,name)"
   ]
  },
  {
   "cell_type": "code",
   "execution_count": null,
   "metadata": {},
   "outputs": [],
   "source": [
    "numbers=[1,2,3,4,5,77,88,987]\n",
    "for idx,num in enumerate(numbers):\n",
    "    print(num + idx)"
   ]
  },
  {
   "cell_type": "code",
   "execution_count": null,
   "metadata": {},
   "outputs": [],
   "source": [
    "# zip\n",
    "\n",
    "x=[1,2,3]\n",
    "y=[4,5,6]\n",
    "z=[7,8,9,10]\n",
    "for i ,j,k in  zip(x,y,z):\n",
    "    print(x+y+z)"
   ]
  },
  {
   "cell_type": "code",
   "execution_count": null,
   "metadata": {},
   "outputs": [],
   "source": [
    "# count the vowels in a sentence\n",
    "sentence = \"this is a very good day\"\n",
    "count = 0 \n",
    "for i in sentence:\n",
    "   if i in 'aeiouAEIOU':\n",
    "      count +=1\n",
    "print(count)\n"
   ]
  },
  {
   "cell_type": "markdown",
   "metadata": {},
   "source": [
    "## While loop"
   ]
  },
  {
   "cell_type": "code",
   "execution_count": null,
   "metadata": {},
   "outputs": [],
   "source": [
    "i = 10 \n",
    "while i>0:\n",
    "    print (i)\n",
    "    i-=2"
   ]
  },
  {
   "cell_type": "code",
   "execution_count": null,
   "metadata": {},
   "outputs": [],
   "source": [
    "# sum of all digits\n",
    "number =12345\n",
    "result = 0 \n",
    "while number>0:\n",
    "    result +=number%10\n",
    "    number//=10\n",
    "    print(number,result)\n",
    "    print(number,result)\n",
    "print(f'ans',{result})"
   ]
  },
  {
   "cell_type": "code",
   "execution_count": null,
   "metadata": {},
   "outputs": [],
   "source": [
    "total = 0\n",
    "while True:\n",
    "    num = input(\"enter a number:\")\n",
    "    if num:\n",
    "        total+= int(num)\n",
    "    else :\n",
    "        break\n",
    "print( f\"total >= {total}\")"
   ]
  },
  {
   "cell_type": "code",
   "execution_count": 8,
   "metadata": {},
   "outputs": [
    {
     "name": "stdout",
     "output_type": "stream",
     "text": [
      "0\n",
      "1\n",
      "2\n",
      "3\n"
     ]
    }
   ],
   "source": [
    "for i in range(5):\n",
    "    print(i)\n",
    "    if i == 3:\n",
    "        break\n",
    "else:\n",
    "    print(\"loop completed\")"
   ]
  },
  {
   "cell_type": "code",
   "execution_count": 14,
   "metadata": {},
   "outputs": [
    {
     "name": "stdout",
     "output_type": "stream",
     "text": [
      "13/2=1\n",
      "13/3=1\n",
      "13/4=1\n",
      "13/5=3\n",
      "13/6=1\n",
      "13/7=6\n",
      "13/8=5\n",
      "13/9=4\n",
      "13/10=3\n",
      "13/11=2\n",
      "13/12=1\n",
      "Prime number13\n"
     ]
    }
   ],
   "source": [
    "number = int (input (\"enter a number\"))\n",
    "for i in range (2,number):\n",
    "    print (f'{number}/{i}={number%i}')\n",
    "    if number%i==0:\n",
    "        print (f\"Not a Prime number\")\n",
    "        break\n",
    "else :\n",
    "    print(f\"Prime number{number}\")"
   ]
  },
  {
   "cell_type": "code",
   "execution_count": 15,
   "metadata": {},
   "outputs": [
    {
     "name": "stdout",
     "output_type": "stream",
     "text": [
      "144\n",
      "91125\n",
      "20151121\n",
      "2887174368\n",
      "148035889\n"
     ]
    }
   ],
   "source": [
    "x=[12,45,67,78,23]\n",
    "y=[2,3,4,5,6,2]\n",
    "for a,b in zip(x,y) :\n",
    "    print(a**b)"
   ]
  },
  {
   "cell_type": "code",
   "execution_count": null,
   "metadata": {},
   "outputs": [],
   "source": []
  }
 ],
 "metadata": {
  "kernelspec": {
   "display_name": "Python 3",
   "language": "python",
   "name": "python3"
  },
  "language_info": {
   "codemirror_mode": {
    "name": "ipython",
    "version": 3
   },
   "file_extension": ".py",
   "mimetype": "text/x-python",
   "name": "python",
   "nbconvert_exporter": "python",
   "pygments_lexer": "ipython3",
   "version": "3.11.4"
  }
 },
 "nbformat": 4,
 "nbformat_minor": 2
}
