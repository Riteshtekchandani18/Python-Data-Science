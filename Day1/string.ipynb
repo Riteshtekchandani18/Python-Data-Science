{
 "cells": [
  {
   "cell_type": "markdown",
   "metadata": {},
   "source": [
    "# String \n",
    "- creating \n",
    "- indexing\n",
    "- slicing \n",
    "- methods"
   ]
  },
  {
   "cell_type": "code",
   "execution_count": 2,
   "metadata": {},
   "outputs": [],
   "source": [
    "# Creating \n",
    "a = ' '# empty string\n",
    "name ='sara' #string quoted\n",
    "city  = 'lucknow'#double quoted\n",
    "message = '''this is a example of mutliline coden string in python '''"
   ]
  },
  {
   "cell_type": "code",
   "execution_count": 3,
   "metadata": {},
   "outputs": [
    {
     "name": "stdout",
     "output_type": "stream",
     "text": [
      "|~o~||~o~||~o~||~o~||~o~||~o~||~o~||~o~||~o~||~o~|\n"
     ]
    }
   ],
   "source": [
    "#string duplication\n",
    "decor = '|~o~|'* 10\n",
    "print(decor)"
   ]
  },
  {
   "cell_type": "code",
   "execution_count": 5,
   "metadata": {},
   "outputs": [
    {
     "data": {
      "text/plain": [
       "'sara_lucknow'"
      ]
     },
     "execution_count": 5,
     "metadata": {},
     "output_type": "execute_result"
    }
   ],
   "source": [
    "# string concatination \n",
    "name +\"_\"+city"
   ]
  },
  {
   "cell_type": "code",
   "execution_count": 7,
   "metadata": {},
   "outputs": [
    {
     "name": "stdout",
     "output_type": "stream",
     "text": [
      "193823\n",
      "[1, 2, 3]\n",
      "True\n",
      "0.11\n"
     ]
    }
   ],
   "source": [
    "# cascading \n",
    "a = str (193823)\n",
    "b = str ([1,2,3])\n",
    "c = str (True) \n",
    "d = str (0.11)\n",
    "print (a)\n",
    "print (b)\n",
    "print (c)\n",
    "print(d)"
   ]
  },
  {
   "cell_type": "markdown",
   "metadata": {},
   "source": [
    "String is indexed and immutable"
   ]
  },
  {
   "cell_type": "code",
   "execution_count": 12,
   "metadata": {},
   "outputs": [
    {
     "name": "stdout",
     "output_type": "stream",
     "text": [
      "SYNCRONIZED\n",
      "11\n",
      "S\n",
      "Y\n",
      "N\n",
      "C\n"
     ]
    }
   ],
   "source": [
    "word = \"SYNCRONIZED\"\n",
    "print (word)\n",
    "print(len(word))\n",
    "print (word[0])\n",
    "print (word[1])\n",
    "print (word[2])\n",
    "print (word[3])\n"
   ]
  },
  {
   "cell_type": "markdown",
   "metadata": {},
   "source": [
    "# In python indexing can negative as well as positive"
   ]
  },
  {
   "cell_type": "code",
   "execution_count": null,
   "metadata": {},
   "outputs": [],
   "source": [
    "# Slicing\n",
    "\n",
    "Syntax\n",
    ".....python\n",
    "\n",
    "var[start: stop]\n",
    "\n",
    "var[start:stop:step]\n",
    "\n",
    "var[:stop]  # start from the beggning\n",
    "\n",
    "var[start:]  # start from an index stop at the end\n",
    "\n"
   ]
  },
  {
   "cell_type": "code",
   "execution_count": 15,
   "metadata": {},
   "outputs": [
    {
     "name": "stdout",
     "output_type": "stream",
     "text": [
      "SYNCR\n",
      "SYNCR\n",
      "YCOIE\n",
      "SNRNZD\n",
      "DEZINORCNYS\n"
     ]
    }
   ],
   "source": [
    "print (word[0:5])\n",
    "print (word[:5])\n",
    "print (word[1:10:2])\n",
    "print(word[::2])\n",
    "print (word[::-1])"
   ]
  },
  {
   "cell_type": "code",
   "execution_count": 24,
   "metadata": {},
   "outputs": [
    {
     "name": "stdout",
     "output_type": "stream",
     "text": [
      "Vijay\n",
      "Chauhan\n",
      "Vijay Dinanath \n"
     ]
    }
   ],
   "source": [
    "word = \"Vijay Dinanath Chauhan\"\n",
    "fword = word [:5]\n",
    "lword = word[-7:]\n",
    "mword = word[:-7]\n",
    "print (fword)\n",
    "print (lword)\n",
    "print (mword)"
   ]
  }
 ],
 "metadata": {
  "kernelspec": {
   "display_name": "base",
   "language": "python",
   "name": "python3"
  },
  "language_info": {
   "codemirror_mode": {
    "name": "ipython",
    "version": 3
   },
   "file_extension": ".py",
   "mimetype": "text/x-python",
   "name": "python",
   "nbconvert_exporter": "python",
   "pygments_lexer": "ipython3",
   "version": "3.11.4"
  }
 },
 "nbformat": 4,
 "nbformat_minor": 2
}
