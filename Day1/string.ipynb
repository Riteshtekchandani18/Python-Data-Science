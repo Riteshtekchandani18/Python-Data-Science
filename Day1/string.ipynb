{
 "cells": [
  {
   "cell_type": "markdown",
   "metadata": {},
   "source": [
    "# String \n",
    "- creating \n",
    "- indexing\n",
    "- slicing \n",
    "- methods"
   ]
  },
  {
   "cell_type": "code",
   "execution_count": 2,
   "metadata": {},
   "outputs": [],
   "source": [
    "# Creating \n",
    "a = ' '# empty string\n",
    "name ='sara' #string quoted\n",
    "city  = 'lucknow'#double quoted\n",
    "message = '''this is a example of mutliline coden string in python '''"
   ]
  },
  {
   "cell_type": "code",
   "execution_count": 3,
   "metadata": {},
   "outputs": [
    {
     "name": "stdout",
     "output_type": "stream",
     "text": [
      "|~o~||~o~||~o~||~o~||~o~||~o~||~o~||~o~||~o~||~o~|\n"
     ]
    }
   ],
   "source": [
    "#string duplication\n",
    "decor = '|~o~|'* 10\n",
    "print(decor)"
   ]
  },
  {
   "cell_type": "code",
   "execution_count": 5,
   "metadata": {},
   "outputs": [
    {
     "data": {
      "text/plain": [
       "'sara_lucknow'"
      ]
     },
     "execution_count": 5,
     "metadata": {},
     "output_type": "execute_result"
    }
   ],
   "source": [
    "# string concatination \n",
    "name +\"_\"+city"
   ]
  },
  {
   "cell_type": "code",
   "execution_count": 7,
   "metadata": {},
   "outputs": [
    {
     "name": "stdout",
     "output_type": "stream",
     "text": [
      "193823\n",
      "[1, 2, 3]\n",
      "True\n",
      "0.11\n"
     ]
    }
   ],
   "source": [
    "# cascading \n",
    "a = str (193823)\n",
    "b = str ([1,2,3])\n",
    "c = str (True) \n",
    "d = str (0.11)\n",
    "print (a)\n",
    "print (b)\n",
    "print (c)\n",
    "print(d)"
   ]
  },
  {
   "cell_type": "markdown",
   "metadata": {},
   "source": [
    "String is indexed and immutable"
   ]
  },
  {
   "cell_type": "code",
   "execution_count": 12,
   "metadata": {},
   "outputs": [
    {
     "name": "stdout",
     "output_type": "stream",
     "text": [
      "SYNCRONIZED\n",
      "11\n",
      "S\n",
      "Y\n",
      "N\n",
      "C\n"
     ]
    }
   ],
   "source": [
    "word = \"SYNCRONIZED\"\n",
    "print (word)\n",
    "print(len(word))\n",
    "print (word[0])\n",
    "print (word[1])\n",
    "print (word[2])\n",
    "print (word[3])\n"
   ]
  },
  {
   "cell_type": "markdown",
   "metadata": {},
   "source": [
    "# In python indexing can negative as well as positive"
   ]
  },
  {
   "cell_type": "code",
   "execution_count": null,
   "metadata": {},
   "outputs": [],
   "source": [
    "# Slicing\n",
    "\n",
    "Syntax\n",
    ".....python\n",
    "\n",
    "var[start: stop]\n",
    "\n",
    "var[start:stop:step]\n",
    "\n",
    "var[:stop]  # start from the beggning\n",
    "\n",
    "var[start:]  # start from an index stop at the end\n",
    "\n"
   ]
  },
  {
   "cell_type": "code",
   "execution_count": 15,
   "metadata": {},
   "outputs": [
    {
     "name": "stdout",
     "output_type": "stream",
     "text": [
      "SYNCR\n",
      "SYNCR\n",
      "YCOIE\n",
      "SNRNZD\n",
      "DEZINORCNYS\n"
     ]
    }
   ],
   "source": [
    "print (word[0:5])\n",
    "print (word[:5])\n",
    "print (word[1:10:2])\n",
    "print(word[::2])\n",
    "print (word[::-1])"
   ]
  },
  {
   "cell_type": "code",
   "execution_count": 24,
   "metadata": {},
   "outputs": [
    {
     "name": "stdout",
     "output_type": "stream",
     "text": [
      "Vijay\n",
      "Chauhan\n",
      "Vijay Dinanath \n"
     ]
    }
   ],
   "source": [
    "word = \"Vijay Dinanath Chauhan\"\n",
    "fword = word [:5]\n",
    "lword = word[-7:]\n",
    "mword = word[:-7]\n",
    "print (fword)\n",
    "print (lword)\n",
    "print (mword)"
   ]
  },
  {
   "cell_type": "markdown",
   "metadata": {},
   "source": [
    "## String methods()\n",
    "- formatting\n",
    "- validation \n",
    "- utlity"
   ]
  },
  {
   "cell_type": "code",
   "execution_count": 1,
   "metadata": {},
   "outputs": [
    {
     "name": "stdout",
     "output_type": "stream",
     "text": [
      "Journey before Descruction\n",
      "JOURNEY BEFORE DESCRUCTION\n",
      "journey before descruction\n",
      "Journey before descruction\n",
      "jOURNEY BEFORE dESCRUCTION\n",
      "journey before descruction\n",
      "Journey Before Descruction\n"
     ]
    }
   ],
   "source": [
    "# formatting\n",
    "\n",
    "quate = \"Journey before Descruction\"\n",
    "print(quate)\n",
    "print (quate.upper())\n",
    "\n",
    "print(quate.lower())\n",
    "print(quate.capitalize())\n",
    "print(quate.swapcase())\n",
    "print(quate.casefold())\n",
    "print(quate.title())"
   ]
  },
  {
   "cell_type": "code",
   "execution_count": 2,
   "metadata": {},
   "outputs": [
    {
     "name": "stdout",
     "output_type": "stream",
     "text": [
      "Journey before Descruction\n",
      "Journey before Descruction\n",
      "                                                      Journey before Descruction\n",
      "Journey before Descruction\n",
      "                           Journey before Descruction                           \n",
      "---------------------------Journey before Descruction---------------------------\n"
     ]
    }
   ],
   "source": [
    "print(quate.ljust(20))\n",
    "print(quate.ljust(20,'-'))\n",
    "print(quate.rjust(80,))\n",
    "print(quate.rjust(20,'>'))\n",
    "print(quate.center(80,))\n",
    "print(quate.center(80,'-'))"
   ]
  },
  {
   "cell_type": "code",
   "execution_count": 4,
   "metadata": {},
   "outputs": [
    {
     "name": "stdout",
     "output_type": "stream",
     "text": [
      "True\n",
      "False\n",
      "True\n",
      "True\n",
      "False\n",
      "True\n",
      "False\n",
      "False\n",
      "True\n",
      "False\n"
     ]
    }
   ],
   "source": [
    "#validation\n",
    "\n",
    "print('123'.isdigit())\n",
    "print('1 23'.isdigit())\n",
    "print('apple'.isalpha())\n",
    "print('iapple'.isalpha())\n",
    "print('apple ple'.isalpha())\n",
    "print('apple123'.isalnum())\n",
    "print('cheery 123'.isalnum())\n",
    "print('cheery 123'.isnumeric())\n",
    "print('   '.isspace())\n",
    "print('1  2  3 '.isspace())"
   ]
  },
  {
   "cell_type": "code",
   "execution_count": 4,
   "metadata": {},
   "outputs": [
    {
     "name": "stdout",
     "output_type": "stream",
     "text": [
      "well done\n"
     ]
    }
   ],
   "source": [
    "num = input(\"enter a number\")\n",
    "if num.isnumeric():\n",
    "    num = int(num)\n",
    "    print(\"well done\")\n",
    "else:\n",
    "    print(\"Go Back and enter the number Again\")"
   ]
  },
  {
   "cell_type": "code",
   "execution_count": 1,
   "metadata": {},
   "outputs": [
    {
     "name": "stdout",
     "output_type": "stream",
     "text": [
      "True\n",
      "False\n",
      "False\n",
      "True\n",
      "True\n",
      "False\n",
      "False\n"
     ]
    }
   ],
   "source": [
    "print ('apple'.startswith('a'))\n",
    "print('apple'.startswith('A'))\n",
    "print('apple'.startswith('b'))\n",
    "print('apple'.endswith('e'))\n",
    "print('book.pdf'.endswith('pdf'))\n",
    "print('bood_one.pdf'.startswith('book'))\n",
    "print('book_one.pdf'.startswith('one'))"
   ]
  },
  {
   "cell_type": "code",
   "execution_count": 3,
   "metadata": {},
   "outputs": [
    {
     "name": "stdout",
     "output_type": "stream",
     "text": [
      "a.exe\n",
      "b.exe\n",
      "d.exe\n"
     ]
    }
   ],
   "source": [
    "apps = ['a.exe','b.exe','c.pdf','d.exe','e.doc','f.doc']\n",
    "for app in apps:\n",
    "    if app.endswith('.exe'):\n",
    "        print(app)"
   ]
  },
  {
   "cell_type": "markdown",
   "metadata": {},
   "source": [
    "## > Utlity\n",
    "- find\n",
    "- replace\n",
    "- count\n",
    "- strip\n",
    " - split\n",
    " - join"
   ]
  },
  {
   "cell_type": "code",
   "execution_count": 7,
   "metadata": {},
   "outputs": [
    {
     "name": "stdout",
     "output_type": "stream",
     "text": [
      "8\n",
      "-1\n",
      "-1\n",
      "-1\n",
      "-1\n",
      "-1\n",
      "-1\n",
      "-1\n"
     ]
    }
   ],
   "source": [
    "quate = \"Journey before Descruction\"\n",
    "print(quate.find(\"b\"))\n",
    "print(quate.find('BEFORE'))\n",
    "print(quate.find('R'))\n",
    "print(quate.find('N',5))\n",
    "print(quate.find('1',1,10))\n",
    "print(quate.find('I'))\n",
    "print(quate.find('FORE DE'))\n",
    "print(quate.find('FOREDE'))"
   ]
  },
  {
   "cell_type": "code",
   "execution_count": 16,
   "metadata": {},
   "outputs": [
    {
     "name": "stdout",
     "output_type": "stream",
     "text": [
      "Sleeping before Descruction\n",
      "Sl__ping b_f_r_ D_scructi_n\n"
     ]
    }
   ],
   "source": [
    "#\n",
    "quate = quate.replace(\"Journey\",\"Sleeping\")\n",
    "print(quate)\n",
    "quate = quate.replace('a','_').replace('e','_').replace('o','_')\n",
    "print(quate)"
   ]
  },
  {
   "cell_type": "code",
   "execution_count": 17,
   "metadata": {},
   "outputs": [
    {
     "name": "stdout",
     "output_type": "stream",
     "text": [
      "4\n"
     ]
    }
   ],
   "source": [
    "words = 'egg spam egg spam pie spam egg egg'\n",
    "print(words.count('egg'))"
   ]
  },
  {
   "cell_type": "code",
   "execution_count": 20,
   "metadata": {},
   "outputs": [
    {
     "name": "stdout",
     "output_type": "stream",
     "text": [
      " Alex mason \n",
      "Alex mason\n",
      "123456\n"
     ]
    }
   ],
   "source": [
    "name = ' Alex mason '\n",
    "print(name)\n",
    "print(name.strip())\n",
    "data = '''\n",
    "\n",
    "               123456\n",
    "               \n",
    "'''\n",
    "print(data.strip())"
   ]
  },
  {
   "cell_type": "code",
   "execution_count": 21,
   "metadata": {},
   "outputs": [
    {
     "name": "stdout",
     "output_type": "stream",
     "text": [
      "123456\n"
     ]
    }
   ],
   "source": [
    "data = data.strip()\n",
    "print(data)"
   ]
  },
  {
   "cell_type": "code",
   "execution_count": 1,
   "metadata": {},
   "outputs": [
    {
     "name": "stdout",
     "output_type": "stream",
     "text": [
      "123-198-1-1\n"
     ]
    }
   ],
   "source": [
    "addr =  ['123','198','1','1']\n",
    "ip_addr = \"-\".join(addr)\n",
    "print(ip_addr)"
   ]
  },
  {
   "cell_type": "code",
   "execution_count": null,
   "metadata": {},
   "outputs": [],
   "source": []
  },
  {
   "cell_type": "code",
   "execution_count": null,
   "metadata": {},
   "outputs": [],
   "source": []
  }
 ],
 "metadata": {
  "kernelspec": {
   "display_name": "base",
   "language": "python",
   "name": "python3"
  },
  "language_info": {
   "codemirror_mode": {
    "name": "ipython",
    "version": 3
   },
   "file_extension": ".py",
   "mimetype": "text/x-python",
   "name": "python",
   "nbconvert_exporter": "python",
   "pygments_lexer": "ipython3",
   "version": "3.11.4"
  }
 },
 "nbformat": 4,
 "nbformat_minor": 2
}
