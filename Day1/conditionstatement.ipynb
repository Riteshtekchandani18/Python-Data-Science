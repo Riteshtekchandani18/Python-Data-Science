{
 "cells": [
  {
   "cell_type": "code",
   "execution_count": 1,
   "metadata": {},
   "outputs": [
    {
     "name": "stdout",
     "output_type": "stream",
     "text": [
      "chai ki dukaan\n",
      "1. chai 10 Rs\n",
      "2. bun makahn 25Rs\n",
      "3. cutting 5 Rs\n",
      "4. samosa 10 rs\n",
      "you have selected chai\n"
     ]
    }
   ],
   "source": [
    "print (\"chai ki dukaan\")\n",
    "print(\"1. chai 10 Rs\")\n",
    "print(\"2. bun makahn 25Rs\")\n",
    "print(\"3. cutting 5 Rs\")\n",
    "print(\"4. samosa 10 rs\")\n",
    "choice = int(input(\"enter your choice\"))\n",
    "match choice:\n",
    "    case 1:\n",
    "        print(\"you have selected chai\")\n",
    "    case 2:\n",
    "        print(\"you have selected bun makhan\")\n",
    "    case  _:\n",
    "        print(\"kahi or jao bhai\")"
   ]
  },
  {
   "cell_type": "markdown",
   "metadata": {},
   "source": []
  }
 ],
 "metadata": {
  "kernelspec": {
   "display_name": "Python 3",
   "language": "python",
   "name": "python3"
  },
  "language_info": {
   "codemirror_mode": {
    "name": "ipython",
    "version": 3
   },
   "file_extension": ".py",
   "mimetype": "text/x-python",
   "name": "python",
   "nbconvert_exporter": "python",
   "pygments_lexer": "ipython3",
   "version": "3.11.4"
  }
 },
 "nbformat": 4,
 "nbformat_minor": 2
}
