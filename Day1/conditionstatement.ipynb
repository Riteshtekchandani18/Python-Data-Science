{
 "cells": [
  {
   "cell_type": "code",
   "execution_count": 1,
   "metadata": {},
   "outputs": [
    {
     "name": "stdout",
     "output_type": "stream",
     "text": [
      "chai ki dukaan\n",
      "1. chai 10 Rs\n",
      "2. bun makahn 25Rs\n",
      "3. cutting 5 Rs\n",
      "4. samosa 10 rs\n",
      "you have selected chai\n"
     ]
    }
   ],
   "source": [
    "print (\"chai ki dukaan\")\n",
    "print(\"1. chai 10 Rs\")\n",
    "print(\"2. bun makahn 25Rs\")\n",
    "print(\"3. cutting 5 Rs\")\n",
    "print(\"4. samosa 10 rs\")\n",
    "choice = int(input(\"enter your choice\"))\n",
    "match choice:\n",
    "    case 1:\n",
    "        print(\"you have selected chai\")\n",
    "    case 2:\n",
    "        print(\"you have selected bun makhan\")\n",
    "    case  _:\n",
    "        print(\"kahi or jao bhai\")"
   ]
  },
  {
   "cell_type": "markdown",
   "metadata": {},
   "source": [
    "## loops\n",
    "- step based loops(for loop)\n",
    "- condition based loops(while loop)\n",
    "\n",
    "....python\n",
    "for loop syntax\n",
    ".....\n",
    "for varname in iterable:\n",
    "    statement 1\n",
    "    statement 2\n",
    "    .....\n",
    "    statement n\n",
    ".....\n",
    "\n",
    "\n",
    "....python\n",
    "while loop syntax\n",
    "....\n",
    "while expression:\n",
    "statement 1\n",
    "    statement 2\n",
    "    .....\n",
    "    statement n"
   ]
  },
  {
   "cell_type": "markdown",
   "metadata": {},
   "source": [
    "numbers=[1,2,3,4,5,6]\n",
    "for i in numbers:\n",
    "    print(i)"
   ]
  },
  {
   "cell_type": "markdown",
   "metadata": {},
   "source": [
    "brands = ['sony','apple','leveno','samsung']\n",
    "for name in brands:\n",
    "    print(name)"
   ]
  }
 ],
 "metadata": {
  "kernelspec": {
   "display_name": "Python 3",
   "language": "python",
   "name": "python3"
  },
  "language_info": {
   "codemirror_mode": {
    "name": "ipython",
    "version": 3
   },
   "file_extension": ".py",
   "mimetype": "text/x-python",
   "name": "python",
   "nbconvert_exporter": "python",
   "pygments_lexer": "ipython3",
   "version": "3.11.4"
  }
 },
 "nbformat": 4,
 "nbformat_minor": 2
}
