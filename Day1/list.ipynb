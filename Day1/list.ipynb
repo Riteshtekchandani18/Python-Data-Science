{
 "cells": [
  {
   "cell_type": "markdown",
   "metadata": {},
   "source": [
    "## DAta Structure\n",
    "- creating\n",
    "- Indexing and string (same as string)\n",
    "- Method - 11 methods\n",
    "- List comparision "
   ]
  },
  {
   "cell_type": "code",
   "execution_count": null,
   "metadata": {},
   "outputs": [],
   "source": [
    "x= []\n",
    "num_list=[1,2,3,4,5]\n",
    "word_list=['this','that','who','which']\n",
    "bol_list=[True,True,False,True]\n",
    "mixed_list=[1,2,'this','false']\n",
    "nested_list= [[1,2,3],[4,5,6]]"
   ]
  },
  {
   "cell_type": "code",
   "execution_count": null,
   "metadata": {},
   "outputs": [],
   "source": [
    "y=list(range(1,16,3))\n",
    "print(y)\n",
    "a=[1,2,3]\n",
    "b=[1,3,5]\n",
    "c=[3,2,1]\n",
    "mat=[a,b,c]  # list from variable\n",
    "print(mat)\n",
    "\n",
    "z= [1]*10  # duplicate list\n",
    "print(z)"
   ]
  },
  {
   "cell_type": "markdown",
   "metadata": {},
   "source": [
    "Rules for list\n",
    "- Indexed\n",
    "- ordered\n",
    "- mutable\n",
    "- hetrogenous Datatype\n",
    "- can have duplicate values\n",
    "- represented with square []\n",
    "- list can used to cast other datastructure to a list"
   ]
  },
  {
   "cell_type": "code",
   "execution_count": null,
   "metadata": {},
   "outputs": [],
   "source": [
    "names= ['Satwik','manas','shiv','Naman','Arpit','Ritesh','paras','Faheem','ammar','Esha','Sachin','Shailja','savri']\n",
    "print(len(names))"
   ]
  },
  {
   "cell_type": "code",
   "execution_count": null,
   "metadata": {},
   "outputs": [],
   "source": [
    "# slicing\n",
    "print(names[:5])\n",
    "print(names[-5:])\n",
    "print(names[1::2])"
   ]
  },
  {
   "cell_type": "code",
   "execution_count": null,
   "metadata": {},
   "outputs": [],
   "source": [
    "print(names[::-1])\n",
    "print(names[::-2])\n",
    "print(names[1::2])"
   ]
  },
  {
   "cell_type": "code",
   "execution_count": null,
   "metadata": {},
   "outputs": [],
   "source": [
    "for i in names:\n",
    "    print(i)\n",
    "    print(i[::-1], end=' ')  ##reverse the items"
   ]
  },
  {
   "cell_type": "markdown",
   "metadata": {},
   "source": [
    "List methods\n",
    "- Add\n",
    "   - Append\n",
    "   - Extend\n",
    "   - Insert\n",
    "- Remove\n",
    "   - Pop\n",
    "   - Clear\n",
    "- utlity\n",
    "   - reverse\n",
    "   - Sort\n",
    "   - Count\n",
    "   - Index\n",
    "   - Copy"
   ]
  },
  {
   "cell_type": "code",
   "execution_count": null,
   "metadata": {},
   "outputs": [],
   "source": [
    "fruits= ['apple','banana','cherry','dragonfruit','elderberry','fig']\n"
   ]
  },
  {
   "cell_type": "code",
   "execution_count": null,
   "metadata": {},
   "outputs": [],
   "source": [
    "fruits.append('gauva')\n",
    "print(fruits)"
   ]
  },
  {
   "cell_type": "code",
   "execution_count": null,
   "metadata": {},
   "outputs": [],
   "source": [
    "fruits.append([1,2,3])  # ad this list to fruits in a nested format\n",
    "print(fruits)\n"
   ]
  },
  {
   "cell_type": "code",
   "execution_count": null,
   "metadata": {},
   "outputs": [],
   "source": [
    "fruits.extend([1,2,3]) # add each item in a list\n",
    "print(fruits)"
   ]
  },
  {
   "cell_type": "code",
   "execution_count": 28,
   "metadata": {},
   "outputs": [
    {
     "name": "stdout",
     "output_type": "stream",
     "text": [
      "[11, 12, 13, 15, 18, 20]\n"
     ]
    }
   ],
   "source": [
    "x = [11,12,14,15,18,20]\n",
    "# replace value 14 by 13\n",
    "x[2]=13\n",
    "print(x)"
   ]
  },
  {
   "cell_type": "code",
   "execution_count": 34,
   "metadata": {},
   "outputs": [
    {
     "name": "stdout",
     "output_type": "stream",
     "text": [
      "[11, 12, 13, 15, 16, 16, 16, 17, 17]\n",
      "[11, 12, 13, 15, 16, 16, 16, 17, 17, 17]\n"
     ]
    }
   ],
   "source": [
    "x.insert(-2,16)\n",
    "print(x)\n",
    "x.insert(-2,17)\n",
    "print(x)"
   ]
  },
  {
   "cell_type": "code",
   "execution_count": 36,
   "metadata": {},
   "outputs": [
    {
     "name": "stdout",
     "output_type": "stream",
     "text": [
      "[11, 12, 13, 15, 16, 16, 16, 17]\n",
      "[11, 12, 13, 15, 16, 16, 17]\n"
     ]
    }
   ],
   "source": [
    "x.remove(17)\n",
    "print(x)\n",
    "x.remove(16)\n",
    "print(x)"
   ]
  },
  {
   "cell_type": "code",
   "execution_count": 38,
   "metadata": {},
   "outputs": [
    {
     "name": "stdout",
     "output_type": "stream",
     "text": [
      "[11, 12, 15, 16]\n",
      "[12, 15, 16]\n"
     ]
    }
   ],
   "source": [
    "x.pop()\n",
    "print(x)\n",
    "x.pop(0)\n",
    "print(x)"
   ]
  },
  {
   "cell_type": "code",
   "execution_count": 39,
   "metadata": {},
   "outputs": [
    {
     "name": "stdout",
     "output_type": "stream",
     "text": [
      "[12, 15]\n",
      "16\n"
     ]
    }
   ],
   "source": [
    "item=x.pop() # remove the lst element of the list\n",
    "print(x)\n",
    "print(item)"
   ]
  },
  {
   "cell_type": "code",
   "execution_count": 41,
   "metadata": {},
   "outputs": [
    {
     "name": "stdout",
     "output_type": "stream",
     "text": [
      "[]\n"
     ]
    }
   ],
   "source": [
    "x.clear() # remove  all the item from the list but list still remains there\n",
    "print(x)"
   ]
  },
  {
   "cell_type": "code",
   "execution_count": 43,
   "metadata": {},
   "outputs": [
    {
     "name": "stdout",
     "output_type": "stream",
     "text": [
      "asending => [12, 32, 34, 56, 76, 98]\n",
      "decending=> [98, 76, 56, 34, 32, 12]\n"
     ]
    }
   ],
   "source": [
    "nums= [12,34,56,98,32,76]\n",
    "nums.sort()\n",
    "print(\"asending =>\",nums)\n",
    "nums.sort(reverse=True)\n",
    "print(\"decending=>\",nums)"
   ]
  },
  {
   "cell_type": "code",
   "execution_count": 44,
   "metadata": {},
   "outputs": [
    {
     "name": "stdout",
     "output_type": "stream",
     "text": [
      "[1, 2, 3]\n",
      "[1, 2, 3]\n",
      "True\n",
      "[1, 2, 3]\n"
     ]
    }
   ],
   "source": [
    "x= [1,2,3]\n",
    "y=x  # store the reference of x in y\n",
    "print(x)\n",
    "print(y)\n",
    "print(x is y)\n",
    "z = x.copy()\n",
    "print(z)"
   ]
  }
 ],
 "metadata": {
  "kernelspec": {
   "display_name": "Python 3",
   "language": "python",
   "name": "python3"
  },
  "language_info": {
   "codemirror_mode": {
    "name": "ipython",
    "version": 3
   },
   "file_extension": ".py",
   "mimetype": "text/x-python",
   "name": "python",
   "nbconvert_exporter": "python",
   "pygments_lexer": "ipython3",
   "version": "3.11.4"
  }
 },
 "nbformat": 4,
 "nbformat_minor": 2
}
